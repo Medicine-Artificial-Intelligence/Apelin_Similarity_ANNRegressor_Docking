{
 "cells": [
  {
   "cell_type": "code",
   "execution_count": 7,
   "id": "c7cb6534-5951-4f45-9d67-60aa5347ffb6",
   "metadata": {},
   "outputs": [],
   "source": [
    "import math\n",
    "import numpy as np\n",
    "import pandas as pd\n",
    "from rdkit import Chem\n",
    "import sys\n",
    "import os\n",
    "import glob\n",
    "import pickle\n",
    "sys.path.append('Mol2DSimi')\n",
    "from Similarity_search import simi_search"
   ]
  },
  {
   "cell_type": "markdown",
   "id": "656a0484-0414-4295-87a8-2df69510e6aa",
   "metadata": {},
   "source": [
    "# 1. Smiles"
   ]
  },
  {
   "cell_type": "code",
   "execution_count": 8,
   "id": "2a13a174-9424-4757-b0cb-cff845342b8d",
   "metadata": {},
   "outputs": [
    {
     "data": {
      "text/html": [
       "<div>\n",
       "<style scoped>\n",
       "    .dataframe tbody tr th:only-of-type {\n",
       "        vertical-align: middle;\n",
       "    }\n",
       "\n",
       "    .dataframe tbody tr th {\n",
       "        vertical-align: top;\n",
       "    }\n",
       "\n",
       "    .dataframe thead th {\n",
       "        text-align: right;\n",
       "    }\n",
       "</style>\n",
       "<table border=\"1\" class=\"dataframe\">\n",
       "  <thead>\n",
       "    <tr style=\"text-align: right;\">\n",
       "      <th></th>\n",
       "      <th>ID</th>\n",
       "      <th>smiles</th>\n",
       "    </tr>\n",
       "  </thead>\n",
       "  <tbody>\n",
       "    <tr>\n",
       "      <th>0</th>\n",
       "      <td>CMF-019</td>\n",
       "      <td>CC(C)C[C@H](NC(C1=CC=C2C(N=C(CC3=CC=CS3)N2C(CC...</td>\n",
       "    </tr>\n",
       "    <tr>\n",
       "      <th>1</th>\n",
       "      <td>AMG 986</td>\n",
       "      <td>S(=O)(=O)(Nc1n(-c2c(OC)cccc2OC)c(-c2cc(C)cnc2)...</td>\n",
       "    </tr>\n",
       "    <tr>\n",
       "      <th>2</th>\n",
       "      <td>BMS-986224</td>\n",
       "      <td>O=C1NC(COCC)=C(C2=C(OC)C=CC=C2OC)C(O)=C1C3=NN=...</td>\n",
       "    </tr>\n",
       "  </tbody>\n",
       "</table>\n",
       "</div>"
      ],
      "text/plain": [
       "           ID                                             smiles\n",
       "0     CMF-019  CC(C)C[C@H](NC(C1=CC=C2C(N=C(CC3=CC=CS3)N2C(CC...\n",
       "1     AMG 986  S(=O)(=O)(Nc1n(-c2c(OC)cccc2OC)c(-c2cc(C)cnc2)...\n",
       "2  BMS-986224  O=C1NC(COCC)=C(C2=C(OC)C=CC=C2OC)C(O)=C1C3=NN=..."
      ]
     },
     "execution_count": 8,
     "metadata": {},
     "output_type": "execute_result"
    }
   ],
   "source": [
    "active = pd.read_csv('Data/similarity.csv')\n",
    "active.head()"
   ]
  },
  {
   "cell_type": "code",
   "execution_count": 9,
   "id": "b38324ab-0056-4f61-8331-b4e5c498201d",
   "metadata": {},
   "outputs": [
    {
     "data": {
      "text/html": [
       "<div>\n",
       "<style scoped>\n",
       "    .dataframe tbody tr th:only-of-type {\n",
       "        vertical-align: middle;\n",
       "    }\n",
       "\n",
       "    .dataframe tbody tr th {\n",
       "        vertical-align: top;\n",
       "    }\n",
       "\n",
       "    .dataframe thead th {\n",
       "        text-align: right;\n",
       "    }\n",
       "</style>\n",
       "<table border=\"1\" class=\"dataframe\">\n",
       "  <thead>\n",
       "    <tr style=\"text-align: right;\">\n",
       "      <th></th>\n",
       "      <th>SMILES</th>\n",
       "      <th>ID</th>\n",
       "      <th>Active</th>\n",
       "      <th>ROMol</th>\n",
       "      <th>tanimoto_avalon</th>\n",
       "      <th>tanimoto_maccs</th>\n",
       "      <th>tanimoto_ecfp2</th>\n",
       "      <th>tanimoto_ecfp4</th>\n",
       "      <th>tanimoto_ecfp6</th>\n",
       "      <th>tanimoto_fcfp2</th>\n",
       "      <th>...</th>\n",
       "      <th>dice_ecfp2</th>\n",
       "      <th>dice_ecfp4</th>\n",
       "      <th>dice_ecfp6</th>\n",
       "      <th>dice_fcfp2</th>\n",
       "      <th>dice_fcfp4</th>\n",
       "      <th>dice_fcfp6</th>\n",
       "      <th>dice_rdk5</th>\n",
       "      <th>dice_rdk6</th>\n",
       "      <th>dice_rdk7</th>\n",
       "      <th>dice_map4</th>\n",
       "    </tr>\n",
       "  </thead>\n",
       "  <tbody>\n",
       "    <tr>\n",
       "      <th>0</th>\n",
       "      <td>S(=O)(=O)(Nc1n(-c2c(OC)cccc2OC)c(-c2cc(C)cnc2)...</td>\n",
       "      <td>CMF</td>\n",
       "      <td>0</td>\n",
       "      <td>&lt;rdkit.Chem.rdchem.Mol object at 0x7ff4c9b80d60&gt;</td>\n",
       "      <td>1.0</td>\n",
       "      <td>1.0</td>\n",
       "      <td>1.0</td>\n",
       "      <td>1.0</td>\n",
       "      <td>1.0</td>\n",
       "      <td>0.035088</td>\n",
       "      <td>...</td>\n",
       "      <td>1.0</td>\n",
       "      <td>1.0</td>\n",
       "      <td>1.0</td>\n",
       "      <td>0.067797</td>\n",
       "      <td>0.038462</td>\n",
       "      <td>0.013333</td>\n",
       "      <td>1.0</td>\n",
       "      <td>1.0</td>\n",
       "      <td>1.0</td>\n",
       "      <td>1.0</td>\n",
       "    </tr>\n",
       "  </tbody>\n",
       "</table>\n",
       "<p>1 rows × 28 columns</p>\n",
       "</div>"
      ],
      "text/plain": [
       "                                              SMILES   ID  Active  \\\n",
       "0  S(=O)(=O)(Nc1n(-c2c(OC)cccc2OC)c(-c2cc(C)cnc2)...  CMF       0   \n",
       "\n",
       "                                              ROMol  tanimoto_avalon  \\\n",
       "0  <rdkit.Chem.rdchem.Mol object at 0x7ff4c9b80d60>              1.0   \n",
       "\n",
       "   tanimoto_maccs  tanimoto_ecfp2  tanimoto_ecfp4  tanimoto_ecfp6  \\\n",
       "0             1.0             1.0             1.0             1.0   \n",
       "\n",
       "   tanimoto_fcfp2  ...  dice_ecfp2  dice_ecfp4  dice_ecfp6  dice_fcfp2  \\\n",
       "0        0.035088  ...         1.0         1.0         1.0    0.067797   \n",
       "\n",
       "   dice_fcfp4  dice_fcfp6  dice_rdk5  dice_rdk6  dice_rdk7  dice_map4  \n",
       "0    0.038462    0.013333        1.0        1.0        1.0        1.0  \n",
       "\n",
       "[1 rows x 28 columns]"
      ]
     },
     "metadata": {},
     "output_type": "display_data"
    },
    {
     "data": {
      "text/html": [
       "<div>\n",
       "<style scoped>\n",
       "    .dataframe tbody tr th:only-of-type {\n",
       "        vertical-align: middle;\n",
       "    }\n",
       "\n",
       "    .dataframe tbody tr th {\n",
       "        vertical-align: top;\n",
       "    }\n",
       "\n",
       "    .dataframe thead th {\n",
       "        text-align: right;\n",
       "    }\n",
       "</style>\n",
       "<table border=\"1\" class=\"dataframe\">\n",
       "  <thead>\n",
       "    <tr style=\"text-align: right;\">\n",
       "      <th></th>\n",
       "      <th>tanimoto_avalon</th>\n",
       "      <th>tanimoto_maccs</th>\n",
       "      <th>tanimoto_ecfp2</th>\n",
       "      <th>tanimoto_ecfp4</th>\n",
       "      <th>tanimoto_ecfp6</th>\n",
       "      <th>tanimoto_fcfp2</th>\n",
       "      <th>tanimoto_fcfp4</th>\n",
       "      <th>tanimoto_fcfp6</th>\n",
       "      <th>tanimoto_rdk5</th>\n",
       "      <th>tanimoto_rdk6</th>\n",
       "      <th>tanimoto_rdk7</th>\n",
       "      <th>tanimoto_map4</th>\n",
       "      <th>Pred</th>\n",
       "      <th>Proba</th>\n",
       "    </tr>\n",
       "  </thead>\n",
       "  <tbody>\n",
       "    <tr>\n",
       "      <th>CMF</th>\n",
       "      <td>1.0</td>\n",
       "      <td>1.0</td>\n",
       "      <td>1.0</td>\n",
       "      <td>1.0</td>\n",
       "      <td>1.0</td>\n",
       "      <td>0.035088</td>\n",
       "      <td>0.019608</td>\n",
       "      <td>0.006711</td>\n",
       "      <td>1.0</td>\n",
       "      <td>1.0</td>\n",
       "      <td>1.0</td>\n",
       "      <td>1.0</td>\n",
       "      <td>1</td>\n",
       "      <td>0.99957</td>\n",
       "    </tr>\n",
       "  </tbody>\n",
       "</table>\n",
       "</div>"
      ],
      "text/plain": [
       "     tanimoto_avalon  tanimoto_maccs  tanimoto_ecfp2  tanimoto_ecfp4  \\\n",
       "CMF              1.0             1.0             1.0             1.0   \n",
       "\n",
       "     tanimoto_ecfp6  tanimoto_fcfp2  tanimoto_fcfp4  tanimoto_fcfp6  \\\n",
       "CMF             1.0        0.035088        0.019608        0.006711   \n",
       "\n",
       "     tanimoto_rdk5  tanimoto_rdk6  tanimoto_rdk7  tanimoto_map4  Pred    Proba  \n",
       "CMF            1.0            1.0            1.0            1.0     1  0.99957  "
      ]
     },
     "metadata": {},
     "output_type": "display_data"
    }
   ],
   "source": [
    "search = simi_search(data=None, smiles_col='SMILES', ID_col='ID', \n",
    "                     active_col='Active', model_path = './Model', input_smiles=active['smiles'][1], id_name = 'CMF')\n",
    "search.fit()\n",
    "display(search.data_filter.head())"
   ]
  },
  {
   "cell_type": "markdown",
   "id": "0498b4fa-5bf9-4cb3-bd6e-e66b33664036",
   "metadata": {},
   "source": [
    "# 2. Database"
   ]
  },
  {
   "cell_type": "code",
   "execution_count": null,
   "id": "5fb1414b-58af-43b5-855d-1faa3414376f",
   "metadata": {},
   "outputs": [],
   "source": [
    "search = simi_search(data=active, smiles_col='smiles', ID_col='ID', \n",
    "                     active_col='Active', model_path = './Model', )\n",
    "search.fit()\n",
    "display(search.data_filter.head())"
   ]
  },
  {
   "cell_type": "code",
   "execution_count": null,
   "id": "7bdb80f5-9255-4248-b205-429a638eb076",
   "metadata": {},
   "outputs": [],
   "source": []
  },
  {
   "cell_type": "code",
   "execution_count": null,
   "id": "5da95f1a-7e34-446c-afa9-96c1642fa51c",
   "metadata": {},
   "outputs": [],
   "source": []
  }
 ],
 "metadata": {
  "kernelspec": {
   "display_name": "Python 3 (ipykernel)",
   "language": "python",
   "name": "python3"
  },
  "language_info": {
   "codemirror_mode": {
    "name": "ipython",
    "version": 3
   },
   "file_extension": ".py",
   "mimetype": "text/x-python",
   "name": "python",
   "nbconvert_exporter": "python",
   "pygments_lexer": "ipython3",
   "version": "3.9.16"
  }
 },
 "nbformat": 4,
 "nbformat_minor": 5
}
